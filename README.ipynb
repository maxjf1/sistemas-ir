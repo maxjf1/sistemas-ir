{
 "cells": [
  {
   "cell_type": "markdown",
   "metadata": {},
   "source": [
    "# Trabalho 3: Avaliando sistemas de IR\n",
    "\n",
    "Neste trabalho, o aluno irá explorar o problema de otimização de sistemas de IR através da análise de métricas de avaliação populares para esse tipo de sistema.\n",
    "\n",
    "Para isso, vamos usar a base CFC (com artigos sobre fibrose cística), a qual encontra-se nesta pasta.\n",
    "\n",
    "Observação: a idéia aqui é usar o jupyter para mostrar a evolução dos teus experimentos. Então use ele adequadamente. Ou seja, não altere funções do começo para reexecutar algo que foi feito lá embaixo. Neste caso, sobreescreva a função lá embaixo. A leitura do notebook tem que ser feita sequencialmente para ficar fácil, ok?\n",
    "\n",
    "\n",
    "## Passo 1 - Normalização\n",
    "\n",
    "Primeira coisa que você vai precisar fazer é ler os arquivos do CFC. Essa é uma parte meio braçal mesmo, mas não tem como escapar dela. Então você terá que criar funções que consigam ler cada arquivo do CFC e parsear eles.\n"
   ]
  },
  {
   "cell_type": "code",
   "execution_count": 35,
   "metadata": {},
   "outputs": [],
   "source": [
    "import pandas as pd\n",
    "\n",
    "\n",
    "def printJson(data):\n",
    "    print(json.dumps(data, indent=4))\n",
    "\n",
    "def extractCFCArticles(path):\n",
    "    # Lista de campos do arquivo CFC\n",
    "    fields = [\n",
    "            'PN',\n",
    "            'RN',\n",
    "            'AN',\n",
    "            'AU',\n",
    "            'TI',\n",
    "            'SO',\n",
    "            'MJ',\n",
    "            'MN',\n",
    "            'AB',\n",
    "            'EX',\n",
    "            'RF',\n",
    "            'CT',\n",
    "    ]\n",
    "    \n",
    "    # Lista de campos que mudarao seus nomes\n",
    "    cast = {\n",
    "        'RN': 'record',\n",
    "        'AB': 'content',\n",
    "        'EX': 'content',\n",
    "        'AN': 'an',\n",
    "        'TI': 'title'\n",
    "    }\n",
    "    \n",
    "    file = open(path).read()\n",
    "    articles = []\n",
    "\n",
    "    for article in file.split(\"\\n\\n\"):\n",
    "        # Objeto do artigo\n",
    "        articleData = {\n",
    "            'title':'',\n",
    "            'record': 0,\n",
    "            'year': 0,\n",
    "            'number': 0,\n",
    "            'an': 0,\n",
    "            'AU': '',\n",
    "            'SO': '',\n",
    "            'MJ': [],\n",
    "            'MN': [],\n",
    "            'RF': [],\n",
    "            'CT': [],\n",
    "            'contentType': '',\n",
    "            'content': '',\n",
    "        }\n",
    "        currentField = ''\n",
    "        for line in article.split(\"\\n\"):\n",
    "            # Linha vazia ou fim de arquivo\n",
    "            if(not line.strip() or line.startswith(\"\\x1a\")):\n",
    "                continue \n",
    "            \n",
    "            for key in fields:\n",
    "                # Verificase a linha é a definição de um novo atributo\n",
    "                if(line.startswith(key + '')):\n",
    "                    currentField = line[0:2].upper()\n",
    "                    line = line[3:]\n",
    "            line = line.strip()\n",
    "            if(currentField == 'RF' or currentField == 'CT'):\n",
    "                articleData[currentField].append(line)\n",
    "                continue\n",
    "                \n",
    "            if(currentField == 'MJ' or currentField == 'MN'):\n",
    "                articleData[currentField]+= line.split(\"  \")\n",
    "                continue\n",
    "            \n",
    "            if(currentField == 'PN'):\n",
    "                articleData['year'] = int(line[0:2])\n",
    "                articleData['number'] = int(line[2])\n",
    "                continue\n",
    "            \n",
    "            if(currentField == 'AB' or currentField == 'EX'):\n",
    "                articleData['contentType'] = currentField\n",
    "                \n",
    "            if(currentField in cast):\n",
    "                currentField = cast[currentField]\n",
    "            \n",
    "            if(currentField == 'record' or currentField == 'an'):\n",
    "                articleData[currentField] = int(line)\n",
    "                continue\n",
    "                \n",
    "                \n",
    "            if(articleData[currentField]):\n",
    "                articleData[currentField]+=' '\n",
    "            articleData[currentField]+= line \n",
    "        \n",
    "        if(articleData['title']):\n",
    "            articles.append(articleData)\n",
    "    return articles\n",
    "            \n",
    "\n",
    "articles = [\n",
    "    'data/cf74',\n",
    "    'data/cf75',\n",
    "    'data/cf76',\n",
    "    'data/cf77',\n",
    "    'data/cf78',\n",
    "    'data/cf79'\n",
    "]\n",
    "\n",
    "import json\n",
    "data = extractCFCArticles(articles[5])\n",
    "\n",
    "# print(json.dumps(data[0], indent=4))\n",
    "\n",
    "# pd.DataFrame(data).to_json(orient='table')\n",
    "# for i in data:\n",
    "#     print(i['AB'] and i['EX'])\n",
    "#     print(i, \"\\n--------------------------------------------------\\n\")"
   ]
  },
  {
   "cell_type": "markdown",
   "metadata": {},
   "source": [
    "## Passo 2 - Primeira indexação\n",
    "\n",
    "Depois de parsear os arquivos, agora é hora de indexar os dados. Ao invés de criar o código do zero, vamos usar o Whoosh, que é uma implementação em python inspirada no Lucene. A documentação pode ser encontrada em https://whoosh.readthedocs.io/en/latest/index.html.\n",
    "\n",
    "Nesta questão de indexação, temos que fazer algumas escolhas: \n",
    "* Como fazer o processo de tokenização? \n",
    "* Stemmizar ou não stemmizar, eis a questão...\n",
    "* Quais campos são úteis para indexação?\n",
    "\n",
    "Neste momento, você vai tomar suas decisões iniciais. A ideia é você testar, depois, outras soluções para verificar quais tiveram os melhores resultados, entendeu? Então não esqueça de documentar, aqui, qual a sua decisão inicial e depois ir explicando ao longo do notebook os experimentos que está fazendo."
   ]
  },
  {
   "cell_type": "markdown",
   "metadata": {},
   "source": [
    "Para pesquisa e indexação, iremos avaliar principalmente os subjects. Estes, levantados por especialistas, contém informações sobre palavras-chave que definem os artigos. \n",
    "\n",
    "No geral, cada artigo possui um Major e Minor Subject. O primeiro define o foco do artigo enquanto o segundo, temas secundários abordados.\n",
    "\n",
    "Dentro dos subjects, os termos são definidos seguindo o [vocabulário médico MeSH](https://meshb.nlm.nih.gov/), em alguns casos seguido de uma sigla de qualificadores (Ex di:diagnóstico).\n",
    "\n",
    "A decisão inicial é usar destas informações para gerar indexação e ranqueamento de pesquisas. Priorizando o Major subject junto do qualificador, em seguida minor subjects\n",
    "\n",
    "Usaremos também os autores e citações para calcular o H-index dos artigos"
   ]
  },
  {
   "cell_type": "code",
   "execution_count": 52,
   "metadata": {},
   "outputs": [],
   "source": [
    "from os import mkdir\n",
    "from shutil import rmtree\n",
    "from whoosh.index import create_in\n",
    "from whoosh.fields import *\n",
    "\n",
    "db_name = \"indexdir\"\n",
    "\n",
    "\n",
    "schema = Schema(title=TEXT(stored=True), \n",
    "                record=NUMERIC(stored=True), \n",
    "                year=NUMERIC(stored=True),\n",
    "                number=NUMERIC(stored=True),\n",
    "                an=NUMERIC(stored=True),\n",
    "                content=TEXT)\n",
    "\n",
    "rmtree(db_name)\n",
    "os.mkdir(db_name)\n",
    "ix = create_in(db_name, schema)\n",
    "writer = ix.writer()\n",
    "\n",
    "for file in articles[1:]:\n",
    "    for article in extractCFCArticles(articles[1]):\n",
    "    #     print(json.dumps(article, indent=4))\n",
    "\n",
    "        writer.add_document(title=article['title'],\n",
    "                            record=article['record'],\n",
    "                            year=article['year'],\n",
    "                            number=article['number'],\n",
    "                            an=article['an'],\n",
    "                            content=article['content'],\n",
    "                           )\n",
    "\n",
    "writer.commit()\n",
    "\n"
   ]
  },
  {
   "cell_type": "code",
   "execution_count": 63,
   "metadata": {},
   "outputs": [
    {
     "name": "stdout",
     "output_type": "stream",
     "text": [
      "[b'0.0001', b'0.0005', b'0.001', b'0.002', b'0.005', b'0.01', b'0.02', b'0.025', b'0.08', b'0.1', b'0.3', b'0.32', b'0.4', b'0.49', b'0.50', b'0.56', b'0.6', b'0.70', b'0.75', b'0.934', b'000', b'0700', b'0ronchial', b'1.0', b'1.03', b'1.2', b'1.43', b'1.5', b'1.6', b'1.6.4.2', b'1.73', b'1.79', b'10', b'10.61', b'100', b'1000', b'104', b'105', b'1054', b'1055', b'107', b'11', b'11.2', b'11.9', b'111', b'112', b'113.7', b'11s', b'12', b'12.7', b'129', b'13', b'13.47', b'130', b'131i', b'135', b'14', b'14.01', b'144', b'145.2', b'146', b'14c', b'15', b'150', b'151', b'16', b'16.7', b'163', b'1651', b'169', b'17', b'173', b'176', b'18', b'1825', b'19', b'1930', b'1939', b'1940', b'1953', b'1954', b'1962', b'1964', b'1966', b'1967', b'1968', b'1969', b'1971', b'1972', b'1973', b'1974', b'1975', b'2.0', b'2.1', b'2.3', b'2.5', b'2.6', b'2.86', b'20', b'20.1', b'200', b'202', b'203.2', b'21', b'2100', b'22', b'229', b'23', b'2360', b'24', b'25', b'26', b'27', b'28', b'282', b'29', b'3.0', b'3.3', b'3.6', b'30', b'300', b'31', b'31.0', b'313', b'32', b'33', b'333', b'34', b'35', b'35s', b'36', b'36.2', b'37', b'38', b'39', b'3h', b'4.13', b'4.41', b'4.8', b'40', b'406', b'41', b'41.6', b'433', b'44', b'45', b'46', b'47', b'48', b'49', b'49.9', b'4b', b'5.0', b'5.2', b'5.5', b'5.67', b'5.7', b'50', b'500', b'503', b'52', b'525', b'53', b'536', b'54', b'55', b'551', b'56', b'58.5', b'59fe2', b'6.1', b'6.25', b'6.3', b'6.98', b'60', b'61', b'63', b'65', b'67', b'68', b'69', b'7.0', b'7.32', b'7.84', b'70', b'72', b'73', b'74', b'75', b'77', b'78', b'8.9', b'80', b'830', b'84', b'85', b'86', b'87', b'8s', b'9.09', b'90', b'93', b'95', b'97', b'98', b'99.2', b'99.8', b'a.a', b'a.d.p', b'a.f.p', b'abdomen', b'abdominal', b'ability', b'able', b'abnormal', b'abnormalities', b'abnormality', b'abnormally', b'abortion', b'about', b'above', b'abrasion', b'absence', b'absent', b'absolute', b'absolutely', b'absorb', b'absorption', b'accepted', b'accidentally', b'accompanied', b'accomplished', b'accomplishment', b'accordance', b'according', b'account', b'accounted', b'accounting', b'accounts', b'accumulated', b'accumulation', b'accuracy', b'accurate', b'acetamido', b'acetyl', b'acetylcysteine', b'achieved', b'achylia', b'acid', b'acidity', b'acidosis', b'acids', b'acinar', b'acquired', b'acquiring', b'across', b'acrylamide', b'act', b'actin', b'action', b'activated', b'activation', b'active', b'actively', b'activities', b'activity', b'actual', b'actually', b'acuity', b'acute', b'ada', b'adapting', b'added', b'addition', b'additional', b'adenosine', b'adequate', b'adhesions', b'adjunct', b'adjusted', b'administer', b'administered', b'administration', b'admission', b'admitted', b'adolescent', b'adolescents', b'adopt', b'adp', b'adrenal', b'adrenergic', b'adult', b'adulthood', b'adults', b'advance', b'advanced', b'advances', b'advantage', b'adverse', b'aerosol', b'aerosolization', b'aerosols', b'aeruginosa', b'aetiology', b'affect', b'affected', b'affecting', b'affects', b'afflicts', b'afp', b'africa', b'african', b'afrikaner', b'after', b'ag', b'again', b'against', b'agar', b'agarose', b'age', b'aged', b'agenesis', b'agent', b'agents', b'ages', b'agglutinated', b'agglutination', b'aggregation', b'aggregometer', b'aging', b'agree', b'agreed', b'aid', b'aims', b'air', b'airways', b'al', b'albumaid', b'albumin', b'alcianophilia', b'alcohol', b'alimentary', b'alive', b'alkaline', b'all', b'allegations', b'alleged', b'allergen', b'allergens', b'allergic', b'allergies', b'allergy', b'allow', b'allowed', b'allows', b'almost', b'alone', b'along', b'alpha', b'alpha1', b'also', b'alter', b'alteration', b'alterations', b'altered', b'alternate', b'alternation', b'alternative', b'alters', b'although', b'alveolar', b'alveoli', b'always', b'am', b'ambulatory', b'amebocytes', b'amelia', b'ameliorate', b'america', b'ametachromatic', b'amicon', b'amines', b'amino', b'amniotic', b'among', b'amount', b'amounts', b'amp', b'amylase', b'anaesthesia', b'anaesthesiologist', b'anaesthetic', b'analogies', b'analogous', b'analysed', b'analyses', b'analysis', b'analytical', b'analyze', b'analyzed', b'analyzing', b'anaphylatoxin', b'anatomic', b'anatomical', b'anderson', b'anencephaly', b'anesthesia', b'anesthetic', b'animal', b'anionic', b'ankle', b'annual', b'anorexia', b'another', b'answer', b'antibacterial', b'antibiotic', b'antibiotics', b'antibodies', b'antibody', b'anticipated', b'antidote', b'antigen', b'antigenic', b'antigens', b'antimicrobial', b'antineoplastic', b'antinuclear', b'antithyroid', b'antitrypsin', b'anxiety', b'any', b'anything', b'anywhere', b'ap', b'apparatus', b'apparent', b'apparently', b'appear', b'appearance', b'appeared', b'appears', b'appendectomy', b'appendix', b'appetite', b'applicable', b'application', b'applied', b'apply', b'appraise', b'approach', b'approachable', b'approaches', b'appropriate', b'approximately', b'april', b'arachidonate', b'arachidonic', b'area', b'areas', b'arginine', b'arise', b'artemia', b'arterial', b'arteries', b'arteriogram', b'arteriographic', b'arteriography', b'artery', b'arthritis', b'arthropod', b'article', b'artificial', b'arylsulfatase', b'asia', b'aspect', b'aspects', b'aspergillosis', b'aspergillus', b'aspirates', b'aspirations', b'assay', b'assayed', b'assays', b'assess', b'assessed', b'assessing', b'assessment', b'assignment', b'assist', b'associated', b'associates', b'association', b'associted', b'assuming', b'asthma', b'asthmatic', b'asthmatics', b'asthmaticus', b'astonishing', b'asynchronous', b'ataxia', b'atopy', b'atp', b'atpase', b'atresia', b'atresias', b'atrophy', b'attack', b'attacks', b'attempt', b'attempted', b'attempting', b'attempts', b'attention', b'attributable', b'augmented', b'aureus', b'authors', b'autoantibodies', b'autonomic', b'autonomous', b'autopsied', b'autopsies', b'autopsy', b'autoradiographs', b'autoradiography', b'autosomal', b'autosomes', b'availability', b'available', b'average', b'averaging', b'avoidance', b'avoided', b'avoids', b'aware', b'awareness', b'axial', b'axonemal', b'babies', b'baby', b'background', b'backward', b'bacteria', b'bacterial', b'bacteriological', b'bacterium', b'baee', b'baldness', b'band', b'bands', b'barbero', b'bartels', b'base', b'based', b'baseline', b'basic', b'basically', b'basis', b'battery', b'beady', b'bearn', b'beating', b'because', b'become', b'beef', b'been', b'before', b'beginning', b'begun', b'behaved', b'behaves', b'behavior', b'behavioral', b'behaviors', b'behaviour', b'being', b'believe', b'belonged', b'belonging', b'belongs', b'below', b'beneficial', b'benefit', b'benzoyl', b'best', b'beta', b'better', b'between', b'beyond', b'biasing', b'bicarbonate', b'bifida', b'bilaterally', b'bile', b'biliary', b'billings', b'bind', b'binding', b'bioassay', b'bioassays', b'biochemical', b'biochemically', b'biologic', b'biological', b'biophysical', b'biopsy', b'biosynthesis', b'birds', b'birth', b'bleeding', b'blocked', b'blood', b'blown', b'blur', b'bm', b'bodian', b'body', b'boehringer', b'bonds', b'bone', b'bones', b'book', b'books', b'borderline', b'bore', b'born', b'borohydride', b'both', b'bound', b'bovine', b'bowel', b'bradykinin', b'breakdown', b'breast', b'breath', b'breathing', b'brief', b'briefly', b'brine', b'britain', b'broad', b'broadly', b'bronchi', b'bronchial', b'bronchiectasis', b'bronchiolitis', b'bronchitic', b'bronchitis', b'broncho', b'bronchoconstriction', b'bronchodilating', b'bronchodilator', b'bronchodilators', b'bronchopulmonary', b'bronchoscope', b'bronchoscopic', b'bronchoscopy', b'bronchospasm', b'brothers', b'brought', b'bsd', b'buffer', b'bulky', b'burden', b'burdens', b'burdon', b'burns', b'but', b'butanol', b'c.f', b'c20', b'c3', b'c3a', b'c5', b'ca', b'calcified', b'calcium', b'calculate', b'calculated', b'calculating', b'calculation', b'calendar', b'called', b'caloreen', b'canada', b'canadian', b'cancer', b'cannot', b'cantacuzene', b'capable', b'capacity', b'capricious', b'caproic', b'carbohydrate', b'carbohydrates', b'carboxyl', b'carboxypeptidase', b'carcinoembryonic', b'carcinoma', b'cardiac', b'cardiovascular', b'care', b'caring', b'carried', b'carrier', b'carriers', b'carry', b'carrying', b'case', b'cases', b'catalytic', b'catch', b'categories', b'cationic', b'caucasian', b'caucasians', b'caucasoid', b'caucasoids', b'causal', b'causative', b'cause', b'caused', b'causes', b'causing', b'cavity', b'cdf', b'celiac', b'cell', b'cellbound', b'cells', b'cellular', b'cellulose', b'cent', b'center', b'centers', b'centile', b'central', b'century', b'cephalexin', b'certain', b'certainty', b'cervix', b'cf', b'cff', b'cffa', b'cfp', b'chain', b'chains', b'chamber', b'chance', b'chandra', b'change', b'changes', b'changing', b'chapter', b'characterised', b'characteristic', b'characteristics', b'characterized', b'characterizing', b'charges', b'cheap', b'check', b'chemical', b'chemoreceptive', b'chemotherapy', b'chest', b'chicken', b'chicoutimi', b'child', b'childhood', b'children', b'china', b'chinese', b'chloride', b'cholestasis', b'cholestatic', b'cholesterol', b'cholestyramine', b'chosen', b'chromatography', b'chromosome', b'chronic', b'chronically', b'chymotrypsin', b'cilia', b'ciliary', b'cilicary', b'cilioinhibitory', b'ciliostatic', b'ciliotoxic', b'circuit', b'circulating', b'circulation', b'cirrhosis', b'cirrhotic', b'citrate', b'cl', b'claimed', b'clarify', b'class', b'classes', b'classical', b'classification', b'classified', b'clear', b'clearance', b'clearances', b'clearing', b'clearly', b'cleavage', b'clinic', b'clinical', b'clinically', b'clinician', b'clinics', b'clippings', b'close', b'closed', b'closely', b'closer', b'closes', b'clubbing', b'clumping', b'co', b'co2', b'coelectrophoresis', b'coeliac', b'cofactor', b'coincident', b'coli', b'collagen', b'colonial', b'colonies', b'colonised', b'colonization', b'colony', b'columns', b'combination', b'combinations', b'combined', b'comes', b'coming', b'comments', b'commercially', b'common', b'commonest', b'comparative', b'comparatively', b'compare', b'compared', b'comparing', b'comparison', b'comparisons', b'compensated', b'compensatory', b'compiling', b'complaint', b'complaints', b'complement', b'complementary', b'complete', b'completely', b'complex', b'complexes', b'complexing', b'compliance', b'complication', b'complications', b'component', b'components', b'composed', b'composition', b'comprehended', b'comprehensive', b'compression', b'comprised', b'conceivably', b'concentrated', b'concentration', b'concentrations', b'concept', b'concepts', b'concern', b'concerned', b'concerning', b'concerns', b'conclude', b'concluded', b'conclusions', b'condition', b'conditions', b'conducted', b'conduction', b'conductive', b'confined', b'confirm', b'confirmatory', b'confirmed', b'confirms', b'conflicting', b'confluent', b'confused', b'confusing', b'confusion', b'congenita', b'congenital', b'congestion', b'conjecture', b'conjunctiva', b'conjunctival', b'connected', b'connecting', b'conover', b'consecutive', b'consequences', b'consequent', b'consider', b'considerable', b'considerably', b'consideration', b'considered', b'considering', b'consistent', b'consistently', b'consisting', b'consists', b'constant', b'consultation', b'contact', b'contain', b'contained', b'containing', b'contains', b'contaminating', b'content', b'continuation', b'continue', b'continued', b'continuing', b'continuous', b'continuously', b'contraction', b'contralateral', b'contrast', b'contribute', b'contributing', b'contribution', b'control', b'controlled', b'controls', b'conventional', b'convinced', b'cooperation', b'copd', b'coping', b'copious', b'copper', b'cor', b'cord', b'correct', b'corrected', b'correction', b'correlate', b'correlated', b'correlation', b'corresponded', b'corresponding', b'corroborates', b'corticosteroids', b'cosmetics', b'cost', b'cough', b'could', b'counseling', b'counselling', b'count', b'counterimmunoelectrophoresis', b'countries', b'country', b'counts', b'coupled', b'course', b'courses', b'covalent', b'covered', b'cows', b'crab', b'creatine', b'creatinine', b'crisis', b'criteria', b'criterion', b'crohn', b'cross', b'crossed', b'crucial', b'crux', b'culture', b'cultured', b'cultures', b'cumulative', b'cure', b'current', b'currently', b'curtail', b'curve', b'curves', b'curvilinearity', b'cushing', b'customary', b'cyanosis', b'cycle', b'cyclic', b'cystic', b'cytolysis', b'daily', b'damage', b'danes', b'dansyl', b'data', b'date', b'dated', b'david', b'day', b'days', b'de', b'dead', b'deal', b'dealing', b'death', b'deaths', b'debate', b'decade', b'decide', b'decided', b'decline', b'declined', b'decompensation', b'decrease', b'decreased', b'decreases', b'deduce', b'defect', b'defective', b'defects', b'defence', b'deferens', b'deficiency', b'deficient', b'defined', b'definite', b'deformative', b'degradation', b'degraded', b'degranulating', b'degranulation', b'degranulator', b'degree', b'degrees', b'delay', b'delayed', b'deletion', b'deletions', b'delineation', b'demands', b'demonstrable', b'demonstrate', b'demonstrated', b'demonstrating', b'demonstration', b'deny', b'deodorant', b'deoxy', b'deoxycholate', b'department', b'depend', b'dependency', b'dependent', b'depending', b'depends', b'depleted', b'depletion', b'deposits', b'deprived', b'derivatives', b'derived', b'dermal', b'dermatan', b'desaturase', b'desaturate', b'desaturating', b'desaturation', b'described', b'describes', b'description', b'descriptions', b'designed', b'despite', b'detail', b'detailed', b'details', b'detect', b'detectable', b'detected', b'detecting', b'detection', b'detects', b'deterioration', b'determinants', b'determination', b'determinations', b'determine', b'determined', b'determining', b'detrimental', b'devastating', b'develop', b'developed', b'developing', b'development', b'developments', b'deviation', b'deviations', b'di', b'diabetes', b'diabetic', b'diagnosed', b'diagnosing', b'diagnosis', b'diagnostic', b'dialysis', b'dialyzed', b'diameter', b'diameters', b'diamond', b'diarrhoea', b'diazepam', b'dicloxacillin', b'did', b'died', b'diego', b'diet', b'dietary', b'differ', b'differed', b'difference', b'differences', b'different', b'differential', b'differentially', b'differentiate', b'differentiation', b'differently', b'differing', b'differs', b'difficult', b'difficulty', b'diffuse', b'diffusing', b'diffusion', b'digit', b'digoxin', b'dilatation', b'dilated', b'dilutions', b'diminished', b'diminution', b'dipalmitoyl', b'directed', b'direction', b'directly', b'dis', b'disaccharidases', b'disappearance', b'disappointing', b'disc', b'discernible', b'disclosed', b'discomfort', b'discontinuing', b'discoordinates', b'discovered', b'discovery', b'discrepancy', b'discrete', b'discs', b'discussed', b'discussion', b'discussions', b'disease', b'diseased', b'diseases', b'disorder', b'disorders', b'disorganisation', b'disorganises', b'dispel', b'dispersion', b'display', b'disproportionate', b'dissociants', b'dissociate', b'dissociated', b'dissociation', b'distal', b'distended', b'distinct', b'distinction', b'distinguish', b'distinguished', b'distorted', b'distortion', b'distorts', b'distress', b'distributed', b'distribution', b'distributions', b'disturbance', b'disturbances', b'disturbed', b'diuresis', b'diurnal', b'divergence', b'diversity', b'diverticulosis', b'divide', b'divided', b'division', b'dna', b'do', b'doctors', b'documented', b'does', b'dominate', b'done', b'dosage', b'dose', b'doses', b'double', b'doubling', b'doubt', b'doubtful', b'dpat', b'dr', b'drainage', b'dramatically', b'draw', b'drop', b'drug', b'drugs', b'dry', b'duct', b'ducts', b'due', b'duke', b'duodenal', b'duodenum', b'duration', b'during', b'dwarfism', b'dye', b'dyes', b'dying', b'dynamic', b'dynamism', b'dysfunction', b'dyskinesia', b'dyskinesis', b'dyspnoea', b'dystrophy', b'e.f.a', b'e.f.s', b'e.g', b'eaca', b'each', b'earlier', b'earliest', b'early', b'easier', b'easily', b'east', b'easy', b'eat', b'ec', b'economical', b'ecteola', b'eczema', b'edible', b'efa', b'effect', b'effective', b'effectively', b'effectiveness', b'effects', b'efficacy', b'efficient', b'efficients', b'efforts', b'eight', b'eighteen', b'eighty', b'either', b'ejection', b'elaborate', b'elective', b'electrical', b'electrocardiogram', b'electrode', b'electrodes', b'electroendosmotic', b'electroimmunoassay', b'electrolyte', b'electrolytes', b'electrometer', b'electrophoresis', b'electrophoretic', b'elemental', b'elements', b'elevated', b'elevation', b'elevations', b'eleven', b'eli', b'elicited', b'eliminate', b'elimination', b'elliott', b'else', b'elsewhere', b'elucidate', b'elucidation', b'eluted', b'embark', b'embryogenesis', b'embryologic', b'emergencies', b'emigrated', b'emotional', b'emphasised', b'emphasises', b'emphasize', b'emphasized', b'employed', b'employs', b'emptying', b'emulsion', b'enable', b'encountered', b'encouragement', b'end', b'endemic', b'endocrine', b'endocrinologic', b'endometriosis', b'endotoxin', b'endotracheal', b'enema', b'enemas', b'enlarged', b'enough', b'enriching', b'ensure', b'enterobacter', b'enterobacteriaceae', b'enteropathy', b'entirely', b'entities', b'entity', b'environmental', b'enzymatic', b'enzyme', b'enzymes', b'epidemic', b'epifluorescent', b'epigastrium', b'episodes', b'epithelium', b'epsilon', b'equal', b'equally', b'equilibrium', b'equivalent', b'erroneous', b'errors', b'erythroblastic', b'erythrocyte', b'erythrocytes', b'escaped', b'escherichia', b'especially', b'essential', b'essentially', b'establish', b'established', b'esterase', b'esterolytic', b'estimate', b'estimating', b'estimation', b'et', b'ethylester', b'etiologic', b'etiologies', b'etiology', b'europe', b'euthyroid', b'evaluate', b'evaluated', b'evaluating', b'evaluation', b'even', b'event', b'events', b'eventually', b'every', b'evidence', b'evident', b'exacerbation', b'exact', b'examination', b'examine', b'examined', b'example', b'exceeding', b'excellent', b'except', b'exception', b'excess', b'excessive', b'exchange', b'exclude', b'excluded', b'excludes', b'excluding', b'excrete', b'excreted', b'excretion', b'exercise', b'exercises', b'exhibit', b'exhibited', b'exhibits', b'exist', b'existed', b'existence', b'exists', b'exocrine', b'exocrinopathy', b'expected', b'experience', b'experienced', b'experimental', b'experiments', b'expiratory', b'explain', b'explained', b'explaining', b'explains', b'explanation', b'exploration', b'exploratory', b'exposed', b'exposing', b'exposure', b'express', b'expressed', b'expression', b'extend', b'extension', b'extensive', b'extensively', b'extent', b'external', b'extra', b'extracellular', b'extract', b'extracts', b'extrahepatic', b'extraneous', b'extreme', b'extremely', b'faced', b'facet', b'facets', b'facilitate', b'fact', b'factor', b'factors', b'fad', b'faecal', b'faeces', b'fail', b'failed', b'fails', b'failure', b'failures', b'fairly', b'fall', b'fallible', b'falls', b'false', b'falsely', b'familial', b'familiarity', b'families', b'family', b'far', b'fashion', b'fast', b'fat', b'fatal', b'fathered', b'fathers', b'fats', b'fatty', b'favorably', b'favour', b'favourable', b'fear', b'feasible', b'feature', b'features', b'feces', b'feeding', b'feel', b'feelings', b'fell', b'felt', b'female', b'females', b'fenyloketonuria', b'fertility', b'fetal', b'feto', b'fetoprotein', b'fetus', b'fev1', b'few', b'fewer', b'fiberoptic', b'fibers', b'fibrillar', b'fibroblast', b'fibroblasts', b'fibrocystic', b'fibrosblasts', b'fibrosis', b'fibrotic', b'field', b'fifth', b'fifty', b'fig', b'figure', b'figures', b'filament', b'filled', b'filling', b'filtration', b'finally', b'financial', b'find', b'finding', b'findings', b'finer', b'finger', b'fingers', b'first', b'fisher', b'fit', b'fitness', b'five', b'fixation', b'flagella', b'flagellae', b'flora', b'flow', b'flowmeter', b'fluctuations', b'fluid', b'fluids', b'fluorescamine', b'fluorescence', b'fluorescent', b'fluorometric', b'flux', b'focal', b'focus', b'focused', b'focuses', b'focusing', b'foetal', b'foetuses', b'follow', b'followed', b'following', b'follows', b'food', b'foods', b'force', b'forced', b'forearm', b'form', b'formation', b'former', b'forms', b'forty', b'fouldes', b'found', b'foundation', b'four', b'fourteen', b'fourth', b'fraction', b'fractional', b'fractionated', b'fractions', b'free', b'freely', b'frequencies', b'frequency', b'frequent', b'frequently', b'fresh', b'freshwater', b'frontal', b'frostbite', b'frustrating', b'fry', b'fucose', b'fucosidase', b'full', b'fully', b'fulton', b'fumigatus', b'function', b'functional', b'functioning', b'functions', b'fundamental', b'fungal', b'fungus', b'furnish', b'further', b'fused', b'future', b'gained', b'gains', b'galactose', b'galactosidase', b'gallbladder', b'gamma', b'gammaglobulin', b'garamycin', b'gas', b'gases', b'gastrectomy', b'gastric', b'gastro', b'gastroenterological', b'gastroenterologist', b'gastrointestinal', b'gave', b'gel', b'gels', b'gene', b'genera', b'general', b'generalised', b'generalized', b'generally', b'generates', b'generations', b'genes', b'genetic', b'genetically', b'genetics', b'genital', b'genotype', b'genotypes', b'gentamicin', b'genuine', b'genus', b'geografical', b'geographical', b'giardia', b'gill', b'gills', b'girl', b'give', b'given', b'gives', b'giving', b'gland', b'glands', b'glandular', b'glimpse', b'glucosamine', b'glucosaminidase', b'glucose', b'glucosidase', b'glucuronidase', b'glutamyl', b'glutathione', b'gluten', b'glycoprotein', b'glycoproteins', b'glycosaminoglycans', b'glycosidases', b'gmp', b'go', b'goal', b'goals', b'goblet', b'goiter', b'good', b'gr', b'gradient', b'gradually', b'gram', b'granulocyte', b'graphing', b'graves', b'great', b'greater', b'greatly', b'gross', b'grossly', b'group', b'groups', b'grow', b'growing', b'grown', b'growth', b'gssg', b'guanosine', b'guide', b'ha', b'had', b'haemoglobin', b'haemolysin', b'haemolytic', b'haemoptysis', b'haemorrhages', b'half', b'hallmarks', b'halothane', b'hand', b'handling', b'hann', b'harbored', b'hard', b'harmful', b'has', b'hashimoto', b'hassam', b'haul', b'having', b'hazard', b'hazards', b'haze', b'he', b'head', b'health', b'healthy', b'hearing', b'heart', b'hearts', b'height', b'heights', b'heinrich', b'helen', b'helium', b'hellsing', b'help', b'helpful', b'helping', b'helps', b'hemagglutinating', b'hemithyroidectomy', b'hemodynamic', b'hemophilia', b'hemoptysis', b'hemorrhage', b'hemorrhagic', b'hemosiderosis', b'hence', b'henkin', b'heparan', b'heparin', b'hepatic', b'hepatitis', b'hepatosplenomegaly', b'hepatoxic', b'heptavalent', b'her', b'here', b'hereditary', b'heterogeneity', b'heterogeneous', b'heterozygote', b'heterozygotes', b'heterozygous', b'high', b'higher', b'highly', b'him', b'hirschsprung', b'his', b'histologic', b'histological', b'histopathological', b'historical', b'histories', b'history', b'hl', b'hoarseness', b'home', b'homma', b'homo', b'homocystinuria', b'homogenates', b'homologous', b'homozygote', b'homozygotes', b'homozygous', b'hopkins', b'hormone', b'hospital', b'hospitalized', b'hospitals', b'host', b'hot', b'how', b'however', b'hr', b'huang', b'human', b'humans', b'humoral', b'hyaline', b'hyaluronic', b'hydrochloride', b'hydrolysate', b'hydrolysis', b'hydrolyzing', b'hydronephrosis', b'hygiene', b'hyperaldosteronism', b'hyperplasia', b'hyperreactivity', b'hypersensitive', b'hypersensitivity', b'hypertension', b'hyperthyroid', b'hyperthyroidism', b'hypertrophic', b'hypertrophy', b'hyposensitivity', b'hypothesis', b'hypothesized', b'hypothroidism', b'hypothyroidism', b'hz', b'ideal', b'identical', b'identification', b'identified', b'identify', b'identity', b'ie', b'iga', b'igd', b'ige', b'igg', b'igm', b'ignorance', b'ii', b'iii', b'ileus', b'ill', b'illness', b'illnesses', b'illustrated', b'imbalance', b'immediate', b'immediately', b'immersed', b'immersion', b'immigration', b'immune', b'immunity', b'immunization', b'immunoabsorption', b'immunoassay', b'immunodeficiency', b'immunodiffusion', b'immunoelectrophoresis', b'immunoelectrophoretic', b'immunofluorescence', b'immunoglobulin', b'immunoglobulins', b'immunological', b'immunologically', b'immunoperoxidase', b'immunoreactive', b'immunosuppressive', b'impacted', b'impaction', b'impair', b'impaired', b'impairment', b'implemented', b'implicated', b'implicates', b'implicating', b'implications', b'importance', b'important', b'imposed', b'impossible', b'impotence', b'impressive', b'improbable', b'improve', b'improved', b'improvement', b'improvements', b'improving', b'inaccuracy', b'inappropriate', b'inborn', b'incidence', b'incidentally', b'incision', b'include', b'included', b'includes', b'including', b'inclusion', b'incomplete', b'inconsistencies', b'inconsistent', b'incorporated', b'incorrect', b'increase', b'increased', b'increases', b'increasing', b'incubation', b'indeed', b'indefinitely', b'independent', b'index', b'indian', b'indicate', b'indicated', b'indicating', b'indication', b'indications', b'indicator', b'indirect', b'individual', b'individuals', b'induce', b'induced', b'induction', b'industrial', b'inequality', b'inertly', b'inexpensive', b'infancy', b'infant', b'infantile', b'infantilism', b'infants', b'infected', b'infecting', b'infection', b'infections', b'infectious', b'inferred', b'infertile', b'infertility', b'infiltration', b'inflammation', b'inflammatory', b'influence', b'influences', b'influenzae', b'information', b'infrequent', b'infusion', b'infusions', b'ingestion', b'ingredient', b'inhalation', b'inhalations', b'inhalatory', b'inhaled', b'inherent', b'inheritance', b'inherited', b'inhibited', b'inhibiting', b'inhibition', b'inhibitor', b'inhibitors', b'inhibitory', b'inhibits', b'initial', b'initially', b'initiated', b'injectable', b'injection', b'injections', b'injury', b'innervation', b'inspiratory', b'inspissated', b'instance', b'instances', b'instead', b'instillation', b'instituted', b'institutes', b'institution', b'insufficiency', b'insufficient', b'insulin', b'insuring', b'intact', b'intake', b'integral', b'intensity', b'intensive', b'intensively', b'interaction', b'interest', b'interesting', b'interface', b'interfere', b'interference', b'interfering', b'intermediate', b'intermittent', b'interpretation', b'interpreted', b'interval', b'intervals', b'intervention', b'interview', b'interviewed', b'intestinal', b'intestine', b'intestines', b'into', b'intolerance', b'intracellular', b'intracutaneous', b'intraduodenal', b'intrahepatic', b'intralipid', b'intraluminal', b'intramuscular', b'intravenous', b'intravenously', b'intrinsic', b'introduced', b'introduces', b'introduction', b'intussusception', b'invalidate', b'invariable', b'invariably', b'invasion', b'inventory', b'inverse', b'invertebrate', b'investigate', b'investigated', b'investigation', b'investigations', b'investigators', b'involve', b'involved', b'involvement', b'involves', b'involving', b'iodide', b'iodides', b'iodine', b'ion', b'ions', b'iontophoresis', b'ip', b'iq', b'iron', b'irrespective', b'irreversible', b'irritable', b'islet', b'isoamylase', b'isoamylases', b'isoelectric', b'isoenzyme', b'isoenzymes', b'isolated', b'isolates', b'isolation', b'its', b'itself', b'jacobsen', b'jaundice', b'jejunum', b'johns', b'joints', b'jones', b'judge', b'judged', b'junction', b'june', b'just', b'justifiable', b'justified', b'justify', b'juvenile', b'keeping', b'keratin', b'ketamine', b'kg', b'kidneys', b'kieselguhr', b'killed', b'kinetic', b'klebsiella', b'knee', b'know', b'knowledge', b'known', b'kollberg', b'kulczycki', b'l.a', b'label', b'labeled', b'lability', b'laboratories', b'laboratory', b'lack', b'lacks', b'lactase', b'lamblia', b'laparotomy', b'large', b'larger', b'larvae', b'laryngeal', b'laryngoscopy', b'last', b'lasted', b'late', b'later', b'latest', b'latex', b'latter', b'lauded', b'lavage', b'lavaged', b'lavages', b'lay', b'layer', b'lead', b'leading', b'learn', b'least', b'lecithin', b'led', b'left', b'lends', b'length', b'lengths', b'lesion', b'lesions', b'less', b'lesser', b'lethal', b'letter', b'leucine', b'leukemia', b'leukocytes', b'leukopenia', b'level', b'levels', b'liability', b'lieberman', b'lies', b'life', b'ligation', b'light', b'like', b'likely', b'limitations', b'limited', b'limits', b'limulus', b'line', b'linear', b'lines', b'linkage', b'linkages', b'linked', b'linoleate', b'linoleic', b'lipase', b'lipids', b'lipopolysaccharide', b'literature', b'liters', b'lithium', b'little', b'live', b'liver', b'livers', b'lives', b'living', b'lobar', b'lobectomy', b'lober', b'local', b'localization', b'localize', b'loci', b'lod', b'log', b'logarithmic', b'loner', b'long', b'longer', b'longevity', b'longterm', b'loose', b'loses', b'loss', b'lot', b'low', b'lower', b'lowered', b'lowering', b'lowest', b'lung', b'lungs', b'lykkegaard', b'lymphocyte', b'lymphocytes', b'lymphoid', b'lysosomal', b'm2', b'macroamylasemia', b'macromolecular', b'made', b'mailed', b'main', b'mainly', b'maintain', b'maintained', b'maintenance', b'major', b'majority', b'make', b'makes', b'making', b'malabsorption', b'malaena', b'malaria', b'maldigestion', b'male', b'males', b'malformations', b'malformed', b'malnourished', b'malnutrition', b'malodorous', b'maltase', b'mammals', b'man', b'manage', b'management', b'managing', b'maneuvers', b'manifest', b'manifestation', b'manifestations', b'manifests', b'manner', b'mannheim', b'mannosidase', b'many', b'map', b'march', b'marginal', b'marine', b'markedly', b'marker', b'masking', b'mass', b'masses', b'massive', b'master', b'matched', b'material', b'materials', b'maternal', b'maternity', b'matter', b'maturity', b'maxillary', b'maxillofacial', b'maximal', b'maximum', b'me', b'meals', b'mean', b'meaningful', b'meaningfully', b'means', b'measurable', b'measured', b'measurement', b'measurements', b'measures', b'measuring', b'mechanical', b'mechanism', b'mechanisms', b'meconium', b'meconiums', b'media', b'medial', b'median', b'mediated', b'medical', b'medication', b'medications', b'medicine', b'medium', b'meet', b'mellitus', b'members', b'membrane', b'membranes', b'men', b'mendelian', b'menstrual', b'mentioned', b'mercury', b'merely', b'mesonephric', b'metabolic', b'metabolism', b'metabolite', b'metachromasia', b'metachromatic', b'metastases', b'metchnikoff', b'methicillin', b'method', b'methods', b'methortrexate', b'mg', b'mgcl2', b'mi', b'mice', b'micro', b'microbiologist', b'microbiology', b'microelectrophoretically', b'microg', b'microliter', b'micromols', b'microns', b'microscopically', b'microscopy', b'microtubular', b'microtubules', b'mid', b'might', b'mild', b'mildly', b'milligrams', b'milliliters', b'min', b'minerals', b'minimal', b'minimized', b'minimum', b'minnesota', b'minor', b'minus', b'minute', b'minutes', b'mirror', b'misdiagnosis', b'miserable', b'misleading', b'missing', b'missions', b'mist', b'mistake', b'misuses', b'mixed', b'mixing', b'mixture', b'ml', b'mls', b'mm', b'mmol', b'modalities', b'model', b'moderate', b'modes', b'modification', b'modifications', b'modified', b'mol', b'mole', b'molecular', b'molecule', b'molecules', b'moment', b'monitored', b'monitoring', b'monophosphate', b'month', b'months', b'morbidity', b'more', b'moreover', b'morphologic', b'morphological', b'mortality', b'mortem', b'most', b'mother', b'mothers', b'motion', b'mount', b'movement', b'mr', b'much', b'mucociliary', b'mucoid', b'mucolytic', b'mucolytics', b'mucopolysaccharides', b'mucoprotein', b'mucosa', b'mucosal', b'mucous', b'mucoviscidosis', b'mucus', b'mug', b'multilobular', b'multiphasic', b'multiple', b'multiply', b'multiresistant', b'mum', b'mumol', b'muscle', b'muscular', b'mussel', b'must', b'mutant', b'mutation', b'mutations', b'my', b'myeloperoxidase', b'myotonia', b'mysterious', b'myxedema', b'na', b'nadph', b'nail', b'nails', b'narcotic', b'narrow', b'narrowing', b'nasal', b'national', b'nationally', b'native', b'natural', b'nature', b'naupliar', b'nauplii', b'near', b'nearly', b'necessarily', b'necessary', b'necropsies', b'need', b'needed', b'needs', b'negative', b'negligible', b'neither', b'neonatal', b'neonate', b'neonates', b'neonatorum', b'neoplastic', b'nephrocalcinosis', b'nephrotic', b'nerve', b'nervosa', b'nervous', b'neural', b'neuraminic', b'neutral', b'never', b'new', b'newborn', b'newborns', b'newfoundland', b'nine', b'ninety', b'nitrocatechol', b'nitrogen', b'nm', b'nmol', b'no', b'nodular', b'nodules', b'non', b'noncompliance', b'noncompliers', b'nondetergent', b'nondiabetic', b'none', b'nonfatal', b'nongenetic', b'nonmedical', b'nonmucoid', b'nonmuscle', b'nonoperative', b'nonresponsiveness', b'nonspecific', b'nonsurgical', b'nontoxic', b'nor', b'norm', b'normal', b'normalize', b'normalized', b'normally', b'normals', b'norman', b'north', b'nos', b'nose', b'notable', b'notably', b'noted', b'nothing', b'noticeable', b'noticed', b'notion', b'novo', b'now', b'nowadays', b'nucleotide', b'number', b'numerous', b'nurse', b'nurses', b'nursing', b'nutrition', b'nutritional', b'o2', b'objective', b'objectives', b'obligate', b'obligatory', b'obscure', b'observation', b'observations', b'observe', b'observed', b'observers', b'observing', b'obstruct', b'obstructing', b'obstruction', b'obstructive', b'obtained', b'obvious', b'obviously', b'occasional', b'occasionally', b'occasions', b'occur', b'occurance', b'occurred', b'occurrence', b'occurring', b'occurs', b'odorants', b'oesophageal', b'offered', b'offers', b'offspring', b'often', b'oil', b'old', b'older', b'oleate', b'olfactory', b'oligosaccharides', b'omega', b'omen', b'once', b'one', b'only', b'onset', b'opacification', b'open', b'operative', b'opinion', b'opportunity', b'opposite', b'optics', b'optimal', b'optimize', b'optimum', b'oral', b'orally', b'order', b'ordinary', b'organ', b'organic', b'organisation', b'organise', b'organism', b'organisms', b'organization', b'organizations', b'organs', b'oriented', b'origin', b'original', b'originally', b'originating', b'origins', b'ormalities', b'osmotic', b'osteoarthropathy', b'other', b'others', b'otherwise', b'ouabain', b'our', b'out', b'outcome', b'outlook', b'outpatient', b'output', b'outstanding', b'ovary', b'over', b'overall', b'overlap', b'overlooked', b'overstated', b'overt', b'overwhelming', b'own', b'oxidation', b'oxidoreductase', b'oxygen', b'oyster', b'p.d', b'p.i', b'p.r.p', b'paediatrician', b'pain', b'palatinase', b'palmar', b'palmitate', b'palpable', b'palpated', b'pancreas', b'pancreatic', b'pancreatitis', b'pancreatograms', b'pancreozymin', b'paper', b'papers', b'parallel', b'paralysis', b'paramedian', b'parameters', b'paranasal', b'paraplegia', b'parasinusitis', b'paratesticular', b'parathenar', b'parenchymal', b'parent', b'parenteral', b'parenterally', b'parents', b'parotid', b'part', b'partial', b'participants', b'participate', b'particles', b'particular', b'particularly', b'partly', b'parts', b'parturition', b'pas', b'passage', b'passed', b'passive', b'past', b'patency', b'patent', b'paternity', b'pathogenesis', b'pathogens', b'pathologic', b'pathological', b'pathologically', b'pathology', b'pathophysiology', b'pathway', b'patient', b'patients', b'pattern', b'patterns', b'pco2', b'pd', b'pds', b'peaceful', b'peak', b'peculiar', b'pedersen', b'pediatric', b'pediatrician', b'pediatrics', b'pef', b'pelvic', b'people', b'peptide', b'per', b'percent', b'percentage', b'percentages', b'percentile', b'perception', b'performance', b'performed', b'perfusion', b'perhaps', b'perianal', b'period', b'periodic', b'periods', b'peripheral', b'periportal', b'peritoneal', b'peritonitis', b'permanent', b'permanently', b'permeability', b'permitting', b'persisted', b'persistent', b'persists', b'person', b'personality', b'persons', b'persuade', b'pf', b'pge1', b'pgm3', b'ph', b'phadebas', b'phage', b'phagocytosis', b'pharmacokinetics', b'pharmacologic', b'phase', b'phenazone', b'phenomena', b'phenomenon', b'phenotype', b'phenotypes', b'phenotypic', b'phosphatase', b'phosphate', b'phospholipid', b'phospholipids', b'phyla', b'physical', b'physically', b'physician', b'physicians', b'physicochemical', b'physiologic', b'physiological', b'physiology', b'physiotherapist', b'physiotherapy', b'pi', b'picture', b'pituitary', b'pku', b'place', b'placed', b'places', b'planning', b'plantar', b'plasma', b'platelet', b'plates', b'play', b'plays', b'plethora', b'plethysmograph', b'pleural', b'pleurectomy', b'plotted', b'plugging', b'plus', b'pmn', b'pn2', b'pneumatosis', b'pneumonia', b'pneumoniae', b'pneumothoraces', b'pneumothorax', b'po2', b'point', b'points', b'polarisation', b'polarity', b'policy', b'pollution', b'polyacrylamide', b'polyamine', b'polyamines', b'polymer', b'polymorphonuclear', b'polypeptide', b'polyps', b'polysaccharides', b'polyunsaturated', b'polyvalent', b'pool', b'poor', b'population', b'populations', b'portal', b'position', b'positive', b'possessing', b'possibility', b'possible', b'possibly', b'post', b'postcholecystectomy', b'postmortem', b'postoperative', b'postulate', b'postulation', b'postural', b'potassium', b'potential', b'potentially', b'powell', b'powerful', b'practicable', b'practically', b'pre', b'preceding', b'preciliary', b'precipitated', b'precipitating', b'precipitation', b'precipitin', b'precipitins', b'preciptins', b'precluded', b'precludes', b'predigested', b'predilection', b'predisposing', b'predominance', b'predominately', b'preference', b'pregnancies', b'pregnancy', b'preincubated', b'premature', b'prenatal', b'preoccupied', b'preoperative', b'preoperatively', b'preparation', b'preparations', b'prepared', b'preparing', b'preschool', b'presence', b'present', b'presented', b'presenting', b'presents', b'preserved', b'pressure', b'pressures', b'presumably', b'presumed', b'preterm', b'prevalence', b'prevent', b'preventing', b'prevention', b'preventive', b'previous', b'previously', b'prick', b'primarily', b'primary', b'principal', b'principle', b'prior', b'priority', b'probably', b'problem', b'problems', b'procedure', b'procedures', b'proceedings', b'process', b'processes', b'processus', b'produce', b'produced', b'produces', b'producing', b'product', b'production', b'products', b'profession', b'professional', b'professor', b'profile', b'profiles', b'prognosis', b'program', b'programmes', b'programming', b'programs', b'progressive', b'progressively', b'prohibitive', b'projected', b'prolapse', b'proliferation', b'prolonged', b'promote', b'prompt', b'pronounced', b'proper', b'properly', b'properties', b'prophylactic', b'prophylaxis', b'proportion', b'proportional', b'proportions', b'propose', b'proposed', b'prospective', b'prosser', b'prostaglandin', b'protamine', b'protean', b'protection', b'protective', b'protein', b'proteinosis', b'proteins', b'proteolytic', b'proteus', b'prothrombin', b'prove', b'proved', b'proven', b'provide', b'provided', b'provides', b'providing', b'provision', b'provocation', b'prowazeki', b'proximal', b'ps', b'pseudohermaphroditism', b'pseudomonas', b'psychiatrist', b'psychologic', b'psychological', b'psychologist', b'psychophysical', b'pubertal', b'public', b'published', b'pulmonale', b'pulmonary', b'pulmonic', b'pure', b'purified', b'purpose', b'pursuit', b'purulent', b'pyelogram', b'pyocine', b'quadrant', b'qualitative', b'quality', b'quantification', b'quantitated', b'quantitation', b'quantitative', b'quantitatively', b'quantities', b'quebec', b'question', b'questionable', b'questions', b'quick', b'quickly', b'quite', b'ra', b'rabbit', b'rabbits', b'race', b'racking', b'radial', b'radioactive', b'radiographic', b'radiographs', b'radioimmunoassay', b'radioimmunological', b'radiological', b'radiologist', b'radiolucent', b'raine', b'raised', b'randomly', b'range', b'ranges', b'rao', b'rapid', b'rare', b'rarely', b'rat', b'rate', b'rated', b'rates', b'rather', b'rating', b'ratings', b'ratio', b'ratios', b'rats', b'ray', b're', b'reach', b'reached', b'reacted', b'reaction', b'reactions', b'reactive', b'reactivity', b'reacts', b'read', b'readers', b'readily', b'readings', b'ready', b'reagent', b'realistic', b'reappearance', b'reason', b'reasonably', b'reasons', b'reassessment', b'reassuring', b'receive', b'received', b'receiving', b'recent', b'recently', b'recessive', b'recessively', b'recognition', b'recognized', b'recommendations', b'recommended', b'recorded', b'recording', b'records', b'recovered', b'recovery', b'rectal', b'recurrence', b'recurrent', b'red', b'reduce', b'reduced', b'reduces', b'reducing', b'reductase', b'reduction', b'reductive', b'refer', b'reference', b'reflect', b'reflected', b'reflecting', b'reflects', b'reflex', b'refractory', b'refrigerator', b'regard', b'regarded', b'regarding', b'regardless', b'regards', b'regime', b'regimen', b'regions', b'register', b'registry', b'regular', b'regularly', b'regulation', b'regulatory', b'reinforce', b'reinvestigate', b'related', b'relation', b'relations', b'relationship', b'relative', b'relatively', b'relatives', b'release', b'released', b'releases', b'relentless', b'relevance', b'relevant', b'reliability', b'reliable', b'reliably', b'relieved', b'religious', b'remainder', b'remained', b'remaining', b'remains', b'remarkable', b'remission', b'removal', b'removed', b'renal', b'repeated', b'repeatedly', b'repetitive', b'replaced', b'replacement', b'report', b'reported', b'reports', b'represent', b'represented', b'representing', b'represents', b'reproducibility', b'require', b'required', b'requirement', b'requirements', b'requires', b'research', b'resection', b'resemble', b'resembling', b'reserpine', b'reserpinized', b'reserve', b'reside', b'residual', b'residue', b'residues', b'resins', b'resistance', b'resistant', b'resolution', b'resolved', b'resp', b'respect', b'respectively', b'respiratory', b'response', b'responses', b'responsible', b'responsiveness', b'rest', b'restricted', b'result', b'resultant', b'resulted', b'resulting', b'results', b'resume', b'resumption', b'retains', b'retard', b'retardation', b'retention', b'retrospective', b'return', b'revealed', b'revealing', b'reveals', b'reversible', b'review', b'reviewed', b'rewarding', b'rheumatoid', b'rich', b'rickettsia', b'right', b'rigid', b'rise', b'risen', b'risk', b'rivers', b'robinson', b'rocket', b'roentgenogram', b'roentgenograms', b'roentgenographically', b'role', b'room', b'rose', b'rough', b'route', b'routine', b'routinely', b'rule', b'ruled', b'run', b'rvh', b'sac', b'saccharide', b'safe', b'safely', b'salina', b'saline', b'salinity', b'saliva', b'salivary', b'salivation', b'salt', b'same', b'sample', b'samples', b'samuels', b'san', b'satisfies', b'scale', b'scanning', b'scans', b'scc', b'schedule', b'school', b'schoolchildren', b'schwachman', b'scientifically', b'scintigraphic', b'sclerosing', b'score', b'scored', b'scores', b'scoring', b'screened', b'screening', b'sd', b'se', b'sea', b'search', b'sec', b'second', b'secondary', b'secrete', b'secreted', b'secretin', b'secreting', b'secretion', b'secretions', b'secretory', b'secretostasis', b'sedimentation', b'seem', b'seemed', b'seemingly', b'seems', b'seen', b'segment', b'segments', b'segregation', b'seize', b'seldom', b'select', b'selected', b'selection', b'selective', b'selectively', b'selenomethionine', b'semen', b'sensitive', b'sensitivities', b'sensitivity', b'sensitization', b'sensitized', b'sensory', b'separate', b'separated', b'separately', b'separates', b'separation', b'sephadex', b'sepharose', b'septal', b'sequential', b'sera', b'serially', b'series', b'serious', b'sero', b'serogroup', b'serogroups', b'serological', b'serotype', b'serotyped', b'serotypes', b'serum', b'service', b'services', b'settlers', b'seven', b'seventy', b'several', b'severe', b'severely', b'severities', b'severity', b'sex', b'sexual', b'shall', b'shape', b'sharks', b'shock', b'short', b'shortcomings', b'shorter', b'should', b'show', b'showed', b'showing', b'shown', b'shrimp', b'shwachman', b'siblings', b'side', b'sieving', b'significance', b'significant', b'significantly', b'signs', b'similar', b'similarities', b'similarly', b'simple', b'simplicity', b'simply', b'simultaneously', b'since', b'singapore', b'single', b'singularly', b'sinuses', b'sinusitis', b'site', b'sites', b'situ', b'situation', b'six', b'sixteen', b'sixty', b'size', b'skeletal', b'skewed', b'skin', b'slide', b'slight', b'slightly', b'slow', b'slowly', b'small', b'smaller', b'smith', b'so', b'social', b'society', b'sodium', b'soft', b'solely', b'solution', b'solved', b'some', b'sometimes', b'somewhat', b'soon', b'source', b'sources', b'south', b'soya', b'soybean', b'space', b'spaces', b'spacing', b'span', b'spared', b'special', b'specialised', b'specialist', b'specialized', b'specially', b'species', b'specific', b'specificity', b'specified', b'specimen', b'specimens', b'spectrum', b'speculate', b'speculation', b'speculations', b'spent', b'spermidine', b'spermine', b'spider', b'spilling', b'spina', b'spinal', b'spiration', b'spirographic', b'spirometer', b'spirometric', b'spite', b'splanchnopleur', b'spontaneous', b'sporadic', b'spread', b'sproul', b'sputum', b'sq', b'st', b'stabilise', b'stabilising', b'stable', b'staff', b'stage', b'stages', b'stagnated', b'stained', b'staining', b'stand', b'standard', b'standardized', b'standards', b'standing', b'staphylococcal', b'staphylococcus', b'star', b'starch', b'started', b'state', b'stated', b'states', b'statistically', b'stature', b'status', b'stay', b'steadily', b'steady', b'stearate', b'steatorrhea', b'stenosis', b'steps', b'sterility', b'steroids', b'sticky', b'still', b'stimulated', b'stimulation', b'stimuli', b'stock', b'stool', b'stools', b'stop', b'stopped', b'stops', b'storage', b'stored', b'stores', b'stories', b'storm', b'strabismus', b'strain', b'strains', b'stream', b'stress', b'stresses', b'striking', b'stringent', b'strip', b'strips', b'strong', b'stronger', b'strongly', b'structural', b'structure', b'structures', b'stuart', b'studied', b'studies', b'study', b'studying', b'stunted', b'subcultured', b'subcultures', b'subgroup', b'subintimal', b'subject', b'subjected', b'subjective', b'subjects', b'sublingual', b'submaxillary', b'subnormal', b'subsequent', b'subsequently', b'substance', b'substances', b'substantially', b'substantiate', b'substitute', b'substitution', b'substrate', b'subtle', b'success', b'successful', b'successfully', b'such', b'sucrase', b'sudorific', b'suffer', b'suffered', b'sufferers', b'suffering', b'sufficient', b'sugar', b'sugars', b'suggest', b'suggested', b'suggesting', b'suggestive', b'suggests', b'suitable', b'sulfate', b'sulfated', b'sulfates', b'sulfation', b'sulfisoxazole', b'sulphamethoxazole', b'sulphate', b'summarize', b'summarized', b'super', b'superior', b'supervise', b'supplement', b'supplementation', b'supplements', b'supply', b'supplying', b'support', b'supported', b'supporting', b'supports', b'suppurative', b'surface', b'surfactants', b'surgery', b'surgical', b'surgically', b'surprisingly', b'surrounding', b'survey', b'survival', b'survive', b'survived', b'surviving', b'susceptibility', b'susceptible', b'suspected', b'suspension', b'swab', b'sweat', b'sweating', b'sweats', b'swelling', b'swellings', b'symposia', b'symptomatic', b'symptoms', b'syndrome', b'syndromes', b'synonyms', b'synovial', b'synovium', b'synthesis', b'synthesized', b'synthetic', b'system', b'systematically', b'systemic', b'systems', b'table', b'tables', b'tail', b'take', b'taken', b'taking', b'tantalising', b'tantalizingly', b'tap', b'target', b'taste', b'taussig', b'taxonomy', b'taylor', b'technical', b'technically', b'technique', b'techniques', b'teflon', b'telangiectasia', b'temperature', b'temporary', b'ten', b'tend', b'tended', b'tendency', b'tenderness', b'tending', b'tent', b'terbutaline', b'term', b'termed', b'terminal', b'terminology', b'terms', b'test', b'tested', b'testicular', b'testing', b'testis', b'testosterone', b'tests', b'tetracycline', b'tetrahydroaldosterone', b'thai', b'thailand', b'than', b'their', b'them', b'then', b'theory', b'therapeutic', b'therapy', b'there', b'thereafter', b'thereby', b'therefore', b'thermal', b'these', b'they', b'thick', b'thickening', b'thin', b'think', b'third', b'thirds', b'thirty', b'thoracic', b'thoracostomy', b'thoracotomy', b'thoractomy', b'those', b'though', b'threaten', b'three', b'threefold', b'threshold', b'thrive', b'throat', b'through', b'throughout', b'thuesen', b'thus', b'thyroid', b'thyroiditis', b'tied', b'time', b'times', b'tiring', b'tissue', b'tissues', b'titration', b'tla', b'tocopherol', b'today', b'toe', b'toes', b'together', b'tolbutamide', b'tolerance', b'too', b'tool', b'tools', b'total', b'totally', b'toward', b'towards', b'toxicity', b'trace', b'trachea', b'tracheal', b'tracheo', b'tracheobronchial', b'tracheostomy', b'tract', b'tracts', b'trait', b'traits', b'transduodenal', b'transferred', b'transferrin', b'transients', b'translation', b'transmittance', b'transmitted', b'transmural', b'transpeptidase', b'transport', b'treat', b'treated', b'treating', b'treatment', b'treatments', b'tree', b'trend', b'trends', b'trial', b'triglyceride', b'triglycerides', b'trimethoprim', b'trimoxazole', b'triradius', b'tropomyosin', b'troublesome', b'true', b'try', b'trypsin', b'tubal', b'tube', b'tuberculosis', b'tubes', b'tumours', b'twelve', b'twenty', b'two', b'type', b'typed', b'types', b'typhus', b'typical', b'typing', b'u.k', b'u.s.a', b'ulcers', b'ultimate', b'ultimately', b'ultrafiltered', b'ultrastructural', b'unable', b'unaffected', b'unclear', b'uncommon', b'under', b'underdeveloped', b'undergoing', b'underlying', b'understand', b'understandable', b'understanding', b'understood', b'undertaken', b'undertook', b'underwent', b'undescended', b'undesirable', b'undetectable', b'undiagnosed', b'undifferentiated', b'undocumented', b'undoubtedly', b'unexpectedly', b'unidentified', b'uniform', b'unilateral', b'unio', b'unit', b'united', b'units', b'university', b'unknown', b'unlabeled', b'unless', b'unlikely', b'unpredictable', b'unrelated', b'unreliable', b'unresolved', b'unsatisfactory', b'unsensitive', b'unstable', b'until', b'untreated', b'unusual', b'unusually', b'up', b'upon', b'uptake', b'urea', b'urinary', b'urine', b'urogenital', b'usage', b'use', b'used', b'useful', b'uses', b'using', b'ussing', b'usual', b'usually', b'uterine', b'uterotubal', b'utilising', b'utility', b'utilization', b'utilized', b'utilizes', b'vaccinated', b'vaccination', b'vaccine', b'vaginalis', b'vague', b'vaguely', b'validated', b'value', b'values', b'variable', b'variant', b'variants', b'variation', b'variations', b'varices', b'variety', b'various', b'vary', b'varying', b'vas', b'vasa', b'vasal', b'vast', b'vc', b'vehicle', b'veins', b'velocity', b'venous', b'ventilation', b'ventricle', b'ventricles', b'ventricular', b'versus', b'vertebrates', b'very', b'vesicular', b'vesticular', b'via', b'victims', b'view', b'villous', b'viscid', b'viscosity', b'viscous', b'visit', b'visualize', b'visualized', b'vital', b'vitamin', b'vitamins', b'vitro', b'vivo', b'vocal', b'volume', b'volumes', b'voluntary', b'volunteers', b'vomiting', b'vs', b'vsd', b'vulgaris', b'wall', b'walls', b'warrant', b'warrants', b'warren', b'warts', b'warwick', b'was', b'washing', b'washout', b'washouts', b'watching', b'water', b'way', b'ways', b'wbc', b'weak', b'wedge', b'week', b'weeks', b'weighing', b'weight', b'weights', b'well', b'were', b'west', b'western', b'what', b'wheezing', b'where', b'whereas', b'whether', b'which', b'while', b'whilst', b'white', b'who', b'whole', b'whom', b'whose', b'why', b'wide', b'widely', b'widespread', b'wish', b'within', b'without', b'woman', b'women', b'wonder', b'work', b'workers', b'working', b'world', b'wotman', b'would', b'wright', b'wrinkled', b'wrinkling', b'writing', b'wt', b'year', b'years', b'yield', b'yielded', b'yolk', b'york', b'young', b'younger', b'youngest', b'yr', b'zones', b'zymogen']\n"
     ]
    }
   ],
   "source": [
    "from whoosh.qparser import QueryParser\n",
    "\n",
    "with ix.searcher() as searcher:\n",
    "    print(list(searcher.lexicon(\"content\")))\n",
    "         \n",
    "    query = QueryParser(\"content\", ix.schema).parse(\"What are the effects of calcium on the physical properties of mucus from CF patients?\")\n",
    "    results = searcher.search(query)\n",
    "#     print(len(results), query,results)"
   ]
  },
  {
   "cell_type": "markdown",
   "metadata": {},
   "source": [
    "## Passo 3 - Calculando as métricas de avaliação\n",
    "\n",
    "Para avaliar a tua decisão, vamos usar como métricas a precisão, recall e f-measure. Faça uma variação da precisão e recall como P@n e R@n, pois serão úteis para os gráficos que serão gerados. "
   ]
  },
  {
   "cell_type": "code",
   "execution_count": null,
   "metadata": {},
   "outputs": [],
   "source": [
    "#códigos..."
   ]
  },
  {
   "cell_type": "markdown",
   "metadata": {},
   "source": [
    "## Passo 4 - Gráficos do experimento 1\n",
    "\n",
    "Apresentar agora os gráficos do teu experimento. Você deve gerar um gráfico PxR, como visto em sala. Para gerar gráficos, você pode usar o matplotlib. Se quiser usar outra biblioteca que ache mais fácil, sem problemas!"
   ]
  },
  {
   "cell_type": "code",
   "execution_count": null,
   "metadata": {},
   "outputs": [],
   "source": [
    "# códigos..."
   ]
  },
  {
   "cell_type": "markdown",
   "metadata": {},
   "source": [
    "## Passo 5 - Demais experimentos\n",
    "\n",
    "Agora você irá testar novas configurações de campos e configurações para tentar encontrar qual a que te dá melhores resultados. Mostrar, como um relatório, a evolução do trabalho. Ou seja, mostrar como o trabalho foi evoluindo para você alcançar o melhor resultado (quais modificações foram feitas, como cada modificação influenciou nas métricas, etc)."
   ]
  },
  {
   "cell_type": "code",
   "execution_count": null,
   "metadata": {},
   "outputs": [],
   "source": [
    "# códigos..."
   ]
  },
  {
   "cell_type": "markdown",
   "metadata": {},
   "source": [
    "## Passo 6 - Quantos resultados eu devo voltar para o usuário?\n",
    "\n",
    "Um dos problemas de sistemas de IR é determinar quantos resultados você deve retornar ao usuário. Uma forma de entender o comportamento do sistema e qual o corte ideal na lista resultante é através do uso de curvas ROC. Assim, plote a curva ROC do teu sistema e determine, através da análise da curva, qual o ponto ideal de corte para o teu sistema."
   ]
  },
  {
   "cell_type": "code",
   "execution_count": null,
   "metadata": {},
   "outputs": [],
   "source": [
    "# códigos..."
   ]
  },
  {
   "cell_type": "code",
   "execution_count": null,
   "metadata": {},
   "outputs": [],
   "source": []
  },
  {
   "cell_type": "code",
   "execution_count": null,
   "metadata": {},
   "outputs": [],
   "source": []
  },
  {
   "cell_type": "code",
   "execution_count": null,
   "metadata": {},
   "outputs": [],
   "source": []
  },
  {
   "cell_type": "code",
   "execution_count": null,
   "metadata": {},
   "outputs": [],
   "source": []
  },
  {
   "cell_type": "code",
   "execution_count": null,
   "metadata": {},
   "outputs": [],
   "source": []
  },
  {
   "cell_type": "code",
   "execution_count": null,
   "metadata": {},
   "outputs": [],
   "source": []
  },
  {
   "cell_type": "code",
   "execution_count": null,
   "metadata": {},
   "outputs": [],
   "source": []
  },
  {
   "cell_type": "code",
   "execution_count": null,
   "metadata": {},
   "outputs": [],
   "source": []
  },
  {
   "cell_type": "code",
   "execution_count": null,
   "metadata": {},
   "outputs": [],
   "source": []
  }
 ],
 "metadata": {
  "kernelspec": {
   "display_name": "Python 3",
   "language": "python",
   "name": "python3"
  },
  "language_info": {
   "codemirror_mode": {
    "name": "ipython",
    "version": 3
   },
   "file_extension": ".py",
   "mimetype": "text/x-python",
   "name": "python",
   "nbconvert_exporter": "python",
   "pygments_lexer": "ipython3",
   "version": "3.6.5"
  }
 },
 "nbformat": 4,
 "nbformat_minor": 2
}
